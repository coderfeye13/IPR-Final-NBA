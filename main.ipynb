{
 "cells": [
  {
   "cell_type": "code",
   "execution_count": 1,
   "id": "673ccb4a-c4bb-4d52-8bd2-409e58390d40",
   "metadata": {
    "tags": []
   },
   "outputs": [
    {
     "data": {
      "text/html": [
       "<div>\n",
       "<style scoped>\n",
       "    .dataframe tbody tr th:only-of-type {\n",
       "        vertical-align: middle;\n",
       "    }\n",
       "\n",
       "    .dataframe tbody tr th {\n",
       "        vertical-align: top;\n",
       "    }\n",
       "\n",
       "    .dataframe thead th {\n",
       "        text-align: right;\n",
       "    }\n",
       "</style>\n",
       "<table border=\"1\" class=\"dataframe\">\n",
       "  <thead>\n",
       "    <tr style=\"text-align: right;\">\n",
       "      <th></th>\n",
       "      <th>gmDate</th>\n",
       "      <th>gmTime</th>\n",
       "      <th>seasTyp</th>\n",
       "      <th>offLNm1</th>\n",
       "      <th>offFNm1</th>\n",
       "      <th>offLNm2</th>\n",
       "      <th>offFNm2</th>\n",
       "      <th>offLNm3</th>\n",
       "      <th>offFNm3</th>\n",
       "      <th>teamAbbr</th>\n",
       "      <th>...</th>\n",
       "      <th>opptFIC40</th>\n",
       "      <th>opptOrtg</th>\n",
       "      <th>opptDrtg</th>\n",
       "      <th>opptEDiff</th>\n",
       "      <th>opptPlay%</th>\n",
       "      <th>opptAR</th>\n",
       "      <th>opptAST/TO</th>\n",
       "      <th>opptSTL/TO</th>\n",
       "      <th>poss</th>\n",
       "      <th>pace</th>\n",
       "    </tr>\n",
       "  </thead>\n",
       "  <tbody>\n",
       "    <tr>\n",
       "      <th>0</th>\n",
       "      <td>2016-10-25</td>\n",
       "      <td>08:00</td>\n",
       "      <td>Regular</td>\n",
       "      <td>Lane</td>\n",
       "      <td>Karl</td>\n",
       "      <td>Adams</td>\n",
       "      <td>Bennie</td>\n",
       "      <td>Kennedy</td>\n",
       "      <td>Bill</td>\n",
       "      <td>NY</td>\n",
       "      <td>...</td>\n",
       "      <td>84.9585</td>\n",
       "      <td>116.5653</td>\n",
       "      <td>87.6731</td>\n",
       "      <td>28.8922</td>\n",
       "      <td>0.4592</td>\n",
       "      <td>20.8951</td>\n",
       "      <td>2.0667</td>\n",
       "      <td>80.0000</td>\n",
       "      <td>100.3729</td>\n",
       "      <td>100.3729</td>\n",
       "    </tr>\n",
       "    <tr>\n",
       "      <th>1</th>\n",
       "      <td>2016-10-25</td>\n",
       "      <td>08:00</td>\n",
       "      <td>Regular</td>\n",
       "      <td>Lane</td>\n",
       "      <td>Karl</td>\n",
       "      <td>Adams</td>\n",
       "      <td>Bennie</td>\n",
       "      <td>Kennedy</td>\n",
       "      <td>Bill</td>\n",
       "      <td>CLE</td>\n",
       "      <td>...</td>\n",
       "      <td>41.6667</td>\n",
       "      <td>87.6731</td>\n",
       "      <td>116.5653</td>\n",
       "      <td>-28.8922</td>\n",
       "      <td>0.3478</td>\n",
       "      <td>12.9969</td>\n",
       "      <td>0.9444</td>\n",
       "      <td>33.3333</td>\n",
       "      <td>100.3729</td>\n",
       "      <td>99.9564</td>\n",
       "    </tr>\n",
       "    <tr>\n",
       "      <th>2</th>\n",
       "      <td>2016-10-25</td>\n",
       "      <td>10:00</td>\n",
       "      <td>Regular</td>\n",
       "      <td>Buchert</td>\n",
       "      <td>Nick</td>\n",
       "      <td>Callahan</td>\n",
       "      <td>Mike</td>\n",
       "      <td>Brown</td>\n",
       "      <td>Tony</td>\n",
       "      <td>UTA</td>\n",
       "      <td>...</td>\n",
       "      <td>69.6653</td>\n",
       "      <td>122.1120</td>\n",
       "      <td>112.3863</td>\n",
       "      <td>9.7257</td>\n",
       "      <td>0.4699</td>\n",
       "      <td>18.3824</td>\n",
       "      <td>1.6923</td>\n",
       "      <td>38.4615</td>\n",
       "      <td>92.5380</td>\n",
       "      <td>92.1540</td>\n",
       "    </tr>\n",
       "    <tr>\n",
       "      <th>3</th>\n",
       "      <td>2016-10-25</td>\n",
       "      <td>10:00</td>\n",
       "      <td>Regular</td>\n",
       "      <td>Buchert</td>\n",
       "      <td>Nick</td>\n",
       "      <td>Callahan</td>\n",
       "      <td>Mike</td>\n",
       "      <td>Brown</td>\n",
       "      <td>Tony</td>\n",
       "      <td>POR</td>\n",
       "      <td>...</td>\n",
       "      <td>58.7137</td>\n",
       "      <td>112.3863</td>\n",
       "      <td>122.1120</td>\n",
       "      <td>-9.7257</td>\n",
       "      <td>0.4444</td>\n",
       "      <td>15.5687</td>\n",
       "      <td>1.3571</td>\n",
       "      <td>64.2857</td>\n",
       "      <td>92.5380</td>\n",
       "      <td>92.9252</td>\n",
       "    </tr>\n",
       "    <tr>\n",
       "      <th>4</th>\n",
       "      <td>2016-10-25</td>\n",
       "      <td>10:30</td>\n",
       "      <td>Regular</td>\n",
       "      <td>Maddox</td>\n",
       "      <td>Tre</td>\n",
       "      <td>Fraher</td>\n",
       "      <td>Pat</td>\n",
       "      <td>Crawford</td>\n",
       "      <td>Dan</td>\n",
       "      <td>SA</td>\n",
       "      <td>...</td>\n",
       "      <td>60.7884</td>\n",
       "      <td>101.2387</td>\n",
       "      <td>130.5979</td>\n",
       "      <td>-29.3592</td>\n",
       "      <td>0.4301</td>\n",
       "      <td>18.0560</td>\n",
       "      <td>1.5000</td>\n",
       "      <td>68.7500</td>\n",
       "      <td>98.7765</td>\n",
       "      <td>98.7765</td>\n",
       "    </tr>\n",
       "  </tbody>\n",
       "</table>\n",
       "<p>5 rows × 123 columns</p>\n",
       "</div>"
      ],
      "text/plain": [
       "       gmDate gmTime  seasTyp  offLNm1 offFNm1   offLNm2 offFNm2   offLNm3  \\\n",
       "0  2016-10-25  08:00  Regular     Lane    Karl     Adams  Bennie   Kennedy   \n",
       "1  2016-10-25  08:00  Regular     Lane    Karl     Adams  Bennie   Kennedy   \n",
       "2  2016-10-25  10:00  Regular  Buchert    Nick  Callahan    Mike     Brown   \n",
       "3  2016-10-25  10:00  Regular  Buchert    Nick  Callahan    Mike     Brown   \n",
       "4  2016-10-25  10:30  Regular   Maddox     Tre    Fraher     Pat  Crawford   \n",
       "\n",
       "  offFNm3 teamAbbr  ... opptFIC40  opptOrtg  opptDrtg opptEDiff  opptPlay%  \\\n",
       "0    Bill       NY  ...   84.9585  116.5653   87.6731   28.8922     0.4592   \n",
       "1    Bill      CLE  ...   41.6667   87.6731  116.5653  -28.8922     0.3478   \n",
       "2    Tony      UTA  ...   69.6653  122.1120  112.3863    9.7257     0.4699   \n",
       "3    Tony      POR  ...   58.7137  112.3863  122.1120   -9.7257     0.4444   \n",
       "4     Dan       SA  ...   60.7884  101.2387  130.5979  -29.3592     0.4301   \n",
       "\n",
       "    opptAR  opptAST/TO  opptSTL/TO      poss      pace  \n",
       "0  20.8951      2.0667     80.0000  100.3729  100.3729  \n",
       "1  12.9969      0.9444     33.3333  100.3729   99.9564  \n",
       "2  18.3824      1.6923     38.4615   92.5380   92.1540  \n",
       "3  15.5687      1.3571     64.2857   92.5380   92.9252  \n",
       "4  18.0560      1.5000     68.7500   98.7765   98.7765  \n",
       "\n",
       "[5 rows x 123 columns]"
      ]
     },
     "execution_count": 1,
     "metadata": {},
     "output_type": "execute_result"
    }
   ],
   "source": [
    "import pandas as pd\n",
    "\n",
    "df1 = pd.read_csv('2016-17_teamBoxScore.csv')\n",
    "\n",
    "df2 = pd.read_csv('2017-18_teamBoxScore.csv')\n",
    "\n",
    "df = pd.concat([df1, df2], ignore_index=True)\n",
    "df.head()"
   ]
  },
  {
   "cell_type": "code",
   "execution_count": 23,
   "id": "5ed989fd-7c6a-40ea-83e5-14423b85d2a1",
   "metadata": {
    "tags": []
   },
   "outputs": [
    {
     "name": "stdout",
     "output_type": "stream",
     "text": [
      "Veritabanındaki Özellikler:\n",
      "gmDate\n",
      "gmTime\n",
      "seasTyp\n",
      "offLNm1\n",
      "offFNm1\n",
      "offLNm2\n",
      "offFNm2\n",
      "offLNm3\n",
      "offFNm3\n",
      "teamAbbr\n",
      "teamConf\n",
      "teamDiv\n",
      "teamLoc\n",
      "teamRslt\n",
      "teamMin\n",
      "teamDayOff\n",
      "teamPTS\n",
      "teamAST\n",
      "teamTO\n",
      "teamSTL\n",
      "teamBLK\n",
      "teamPF\n",
      "teamFGA\n",
      "teamFGM\n",
      "teamFG%\n",
      "team2PA\n",
      "team2PM\n",
      "team2P%\n",
      "team3PA\n",
      "team3PM\n",
      "team3P%\n",
      "teamFTA\n",
      "teamFTM\n",
      "teamFT%\n",
      "teamORB\n",
      "teamDRB\n",
      "teamTRB\n",
      "teamPTS1\n",
      "teamPTS2\n",
      "teamPTS3\n",
      "teamPTS4\n",
      "teamPTS5\n",
      "teamPTS6\n",
      "teamPTS7\n",
      "teamPTS8\n",
      "teamTREB%\n",
      "teamASST%\n",
      "teamTS%\n",
      "teamEFG%\n",
      "teamOREB%\n",
      "teamDREB%\n",
      "teamTO%\n",
      "teamSTL%\n",
      "teamBLK%\n",
      "teamBLKR\n",
      "teamPPS\n",
      "teamFIC\n",
      "teamFIC40\n",
      "teamOrtg\n",
      "teamDrtg\n",
      "teamEDiff\n",
      "teamPlay%\n",
      "teamAR\n",
      "teamAST/TO\n",
      "teamSTL/TO\n",
      "opptAbbr\n",
      "opptConf\n",
      "opptDiv\n",
      "opptLoc\n",
      "opptRslt\n",
      "opptMin\n",
      "opptDayOff\n",
      "opptPTS\n",
      "opptAST\n",
      "opptTO\n",
      "opptSTL\n",
      "opptBLK\n",
      "opptPF\n",
      "opptFGA\n",
      "opptFGM\n",
      "opptFG%\n",
      "oppt2PA\n",
      "oppt2PM\n",
      "oppt2P%\n",
      "oppt3PA\n",
      "oppt3PM\n",
      "oppt3P%\n",
      "opptFTA\n",
      "opptFTM\n",
      "opptFT%\n",
      "opptORB\n",
      "opptDRB\n",
      "opptTRB\n",
      "opptPTS1\n",
      "opptPTS2\n",
      "opptPTS3\n",
      "opptPTS4\n",
      "opptPTS5\n",
      "opptPTS6\n",
      "opptPTS7\n",
      "opptPTS8\n",
      "opptTREB%\n",
      "opptASST%\n",
      "opptTS%\n",
      "opptEFG%\n",
      "opptOREB%\n",
      "opptDREB%\n",
      "opptTO%\n",
      "opptSTL%\n",
      "opptBLK%\n",
      "opptBLKR\n",
      "opptPPS\n",
      "opptFIC\n",
      "opptFIC40\n",
      "opptOrtg\n",
      "opptDrtg\n",
      "opptEDiff\n",
      "opptPlay%\n",
      "opptAR\n",
      "opptAST/TO\n",
      "opptSTL/TO\n",
      "poss\n",
      "pace\n"
     ]
    }
   ],
   "source": [
    "ozellikler = df.columns\n",
    "\n",
    "print(\"Veritabanındaki Özellikler:\")\n",
    "for ozellik in ozellikler:\n",
    "    print(ozellik)"
   ]
  },
  {
   "cell_type": "code",
   "execution_count": 2,
   "id": "f37472ff-f609-4e4e-9c8f-7f893f012a49",
   "metadata": {
    "tags": []
   },
   "outputs": [
    {
     "name": "stdout",
     "output_type": "stream",
     "text": [
      "Loss    2460\n",
      "Win     2460\n",
      "Name: teamRslt, dtype: int64\n"
     ]
    }
   ],
   "source": [
    "unique_teamRslt_values = df['teamRslt'].value_counts()\n",
    "\n",
    "print(unique_teamRslt_values)"
   ]
  },
  {
   "cell_type": "code",
   "execution_count": 3,
   "id": "9dd97d11-cb7a-4240-ba14-9e55f38d3032",
   "metadata": {
    "tags": []
   },
   "outputs": [
    {
     "name": "stdout",
     "output_type": "stream",
     "text": [
      "<class 'pandas.core.frame.DataFrame'>\n",
      "RangeIndex: 4920 entries, 0 to 4919\n",
      "Columns: 123 entries, gmDate to pace\n",
      "dtypes: float64(50), int64(54), object(19)\n",
      "memory usage: 4.6+ MB\n"
     ]
    }
   ],
   "source": [
    "df.info()"
   ]
  },
  {
   "cell_type": "code",
   "execution_count": 4,
   "id": "6265c672-67c5-4097-a515-066b53290cb1",
   "metadata": {
    "tags": []
   },
   "outputs": [],
   "source": [
    "df.dropna(inplace=True)"
   ]
  },
  {
   "cell_type": "code",
   "execution_count": 5,
   "id": "d57062e7-d4fe-4a8b-97b8-61dcc04e0351",
   "metadata": {
    "tags": []
   },
   "outputs": [
    {
     "name": "stdout",
     "output_type": "stream",
     "text": [
      "<class 'pandas.core.frame.DataFrame'>\n",
      "Int64Index: 4918 entries, 0 to 4919\n",
      "Columns: 123 entries, gmDate to pace\n",
      "dtypes: float64(50), int64(54), object(19)\n",
      "memory usage: 4.7+ MB\n"
     ]
    }
   ],
   "source": [
    "df.info()"
   ]
  },
  {
   "cell_type": "code",
   "execution_count": 6,
   "id": "c2197826-aa93-494c-a5c4-0e1a2ed6c8d4",
   "metadata": {
    "tags": []
   },
   "outputs": [
    {
     "name": "stdout",
     "output_type": "stream",
     "text": [
      "Index(['gmDate', 'gmTime', 'seasTyp', 'offLNm1', 'offFNm1', 'offLNm2',\n",
      "       'offFNm2', 'offLNm3', 'offFNm3', 'teamAbbr', 'teamConf', 'teamDiv',\n",
      "       'teamLoc', 'teamRslt', 'opptAbbr', 'opptConf', 'opptDiv', 'opptLoc',\n",
      "       'opptRslt'],\n",
      "      dtype='object')\n"
     ]
    }
   ],
   "source": [
    "object_columns = df.select_dtypes(include=['object']).columns\n",
    "print(object_columns)"
   ]
  },
  {
   "cell_type": "code",
   "execution_count": 7,
   "id": "a04cf57e-0e73-47c8-a978-4a0c31c211c1",
   "metadata": {
    "tags": []
   },
   "outputs": [],
   "source": [
    "from sklearn.preprocessing import LabelEncoder\n",
    "\n",
    "label_encoder = LabelEncoder()\n",
    "for column in ['gmDate', 'gmTime', 'seasTyp', 'offLNm1', 'offFNm1', 'offLNm2', 'offFNm2', 'offLNm3', 'offFNm3',\n",
    "               'teamAbbr', 'teamConf', 'teamDiv', 'teamLoc', 'teamRslt', 'opptAbbr', 'opptConf', 'opptDiv',\n",
    "               'opptLoc', 'opptRslt']:\n",
    "    df[column] = label_encoder.fit_transform(df[column])"
   ]
  },
  {
   "cell_type": "code",
   "execution_count": 8,
   "id": "c4ec9e26-6653-4622-a27d-6ca6bad1fb9a",
   "metadata": {
    "tags": []
   },
   "outputs": [],
   "source": [
    "hedef_degisken = \"teamRslt\"\n",
    "Y = df[hedef_degisken]\n",
    "X = df.drop(columns=[hedef_degisken])"
   ]
  },
  {
   "cell_type": "code",
   "execution_count": 9,
   "id": "2d43a784-4fd2-46c2-9c9c-16969b09af8c",
   "metadata": {
    "tags": []
   },
   "outputs": [],
   "source": [
    "import pandas as pd\n",
    "from sklearn.model_selection import train_test_split\n",
    "from sklearn.model_selection import cross_val_score\n",
    "from sklearn.ensemble import RandomForestClassifier"
   ]
  },
  {
   "cell_type": "code",
   "execution_count": 11,
   "id": "19808893-02cc-4f7f-ae00-bef923022e82",
   "metadata": {
    "tags": []
   },
   "outputs": [
    {
     "data": {
      "text/html": [
       "<style>#sk-container-id-1 {color: black;}#sk-container-id-1 pre{padding: 0;}#sk-container-id-1 div.sk-toggleable {background-color: white;}#sk-container-id-1 label.sk-toggleable__label {cursor: pointer;display: block;width: 100%;margin-bottom: 0;padding: 0.3em;box-sizing: border-box;text-align: center;}#sk-container-id-1 label.sk-toggleable__label-arrow:before {content: \"▸\";float: left;margin-right: 0.25em;color: #696969;}#sk-container-id-1 label.sk-toggleable__label-arrow:hover:before {color: black;}#sk-container-id-1 div.sk-estimator:hover label.sk-toggleable__label-arrow:before {color: black;}#sk-container-id-1 div.sk-toggleable__content {max-height: 0;max-width: 0;overflow: hidden;text-align: left;background-color: #f0f8ff;}#sk-container-id-1 div.sk-toggleable__content pre {margin: 0.2em;color: black;border-radius: 0.25em;background-color: #f0f8ff;}#sk-container-id-1 input.sk-toggleable__control:checked~div.sk-toggleable__content {max-height: 200px;max-width: 100%;overflow: auto;}#sk-container-id-1 input.sk-toggleable__control:checked~label.sk-toggleable__label-arrow:before {content: \"▾\";}#sk-container-id-1 div.sk-estimator input.sk-toggleable__control:checked~label.sk-toggleable__label {background-color: #d4ebff;}#sk-container-id-1 div.sk-label input.sk-toggleable__control:checked~label.sk-toggleable__label {background-color: #d4ebff;}#sk-container-id-1 input.sk-hidden--visually {border: 0;clip: rect(1px 1px 1px 1px);clip: rect(1px, 1px, 1px, 1px);height: 1px;margin: -1px;overflow: hidden;padding: 0;position: absolute;width: 1px;}#sk-container-id-1 div.sk-estimator {font-family: monospace;background-color: #f0f8ff;border: 1px dotted black;border-radius: 0.25em;box-sizing: border-box;margin-bottom: 0.5em;}#sk-container-id-1 div.sk-estimator:hover {background-color: #d4ebff;}#sk-container-id-1 div.sk-parallel-item::after {content: \"\";width: 100%;border-bottom: 1px solid gray;flex-grow: 1;}#sk-container-id-1 div.sk-label:hover label.sk-toggleable__label {background-color: #d4ebff;}#sk-container-id-1 div.sk-serial::before {content: \"\";position: absolute;border-left: 1px solid gray;box-sizing: border-box;top: 0;bottom: 0;left: 50%;z-index: 0;}#sk-container-id-1 div.sk-serial {display: flex;flex-direction: column;align-items: center;background-color: white;padding-right: 0.2em;padding-left: 0.2em;position: relative;}#sk-container-id-1 div.sk-item {position: relative;z-index: 1;}#sk-container-id-1 div.sk-parallel {display: flex;align-items: stretch;justify-content: center;background-color: white;position: relative;}#sk-container-id-1 div.sk-item::before, #sk-container-id-1 div.sk-parallel-item::before {content: \"\";position: absolute;border-left: 1px solid gray;box-sizing: border-box;top: 0;bottom: 0;left: 50%;z-index: -1;}#sk-container-id-1 div.sk-parallel-item {display: flex;flex-direction: column;z-index: 1;position: relative;background-color: white;}#sk-container-id-1 div.sk-parallel-item:first-child::after {align-self: flex-end;width: 50%;}#sk-container-id-1 div.sk-parallel-item:last-child::after {align-self: flex-start;width: 50%;}#sk-container-id-1 div.sk-parallel-item:only-child::after {width: 0;}#sk-container-id-1 div.sk-dashed-wrapped {border: 1px dashed gray;margin: 0 0.4em 0.5em 0.4em;box-sizing: border-box;padding-bottom: 0.4em;background-color: white;}#sk-container-id-1 div.sk-label label {font-family: monospace;font-weight: bold;display: inline-block;line-height: 1.2em;}#sk-container-id-1 div.sk-label-container {text-align: center;}#sk-container-id-1 div.sk-container {/* jupyter's `normalize.less` sets `[hidden] { display: none; }` but bootstrap.min.css set `[hidden] { display: none !important; }` so we also need the `!important` here to be able to override the default hidden behavior on the sphinx rendered scikit-learn.org. See: https://github.com/scikit-learn/scikit-learn/issues/21755 */display: inline-block !important;position: relative;}#sk-container-id-1 div.sk-text-repr-fallback {display: none;}</style><div id=\"sk-container-id-1\" class=\"sk-top-container\"><div class=\"sk-text-repr-fallback\"><pre>RandomForestClassifier()</pre><b>In a Jupyter environment, please rerun this cell to show the HTML representation or trust the notebook. <br />On GitHub, the HTML representation is unable to render, please try loading this page with nbviewer.org.</b></div><div class=\"sk-container\" hidden><div class=\"sk-item\"><div class=\"sk-estimator sk-toggleable\"><input class=\"sk-toggleable__control sk-hidden--visually\" id=\"sk-estimator-id-1\" type=\"checkbox\" checked><label for=\"sk-estimator-id-1\" class=\"sk-toggleable__label sk-toggleable__label-arrow\">RandomForestClassifier</label><div class=\"sk-toggleable__content\"><pre>RandomForestClassifier()</pre></div></div></div></div></div>"
      ],
      "text/plain": [
       "RandomForestClassifier()"
      ]
     },
     "execution_count": 11,
     "metadata": {},
     "output_type": "execute_result"
    }
   ],
   "source": [
    "X_train, X_test, y_train, y_test = train_test_split(X, Y, test_size=0.2, random_state=42)\n",
    "\n",
    "model = RandomForestClassifier()\n",
    "model.fit(X_train, y_train)"
   ]
  },
  {
   "cell_type": "code",
   "execution_count": 12,
   "id": "8872d8f6-b962-4bce-90df-784487d916b8",
   "metadata": {
    "tags": []
   },
   "outputs": [
    {
     "name": "stdout",
     "output_type": "stream",
     "text": [
      "Çapraz Doğrulama Skorları: [1. 1. 1. 1. 1. 1. 1. 1. 1. 1.]\n",
      "Ortalama Çapraz Doğrulama Skoru: 1.0\n"
     ]
    }
   ],
   "source": [
    "cv_scores = cross_val_score(model, X_train, y_train, cv=10, scoring='accuracy')\n",
    "\n",
    "print(\"Çapraz Doğrulama Skorları:\", cv_scores)\n",
    "\n",
    "mean_cv_score = cv_scores.mean()\n",
    "print(\"Ortalama Çapraz Doğrulama Skoru:\", mean_cv_score)"
   ]
  },
  {
   "cell_type": "code",
   "execution_count": 14,
   "id": "8b2cb9dc-26bc-4762-81a8-cedfb99a059c",
   "metadata": {
    "tags": []
   },
   "outputs": [],
   "source": [
    "y_pred = model.predict(X_test)"
   ]
  },
  {
   "cell_type": "code",
   "execution_count": 15,
   "id": "9551d81b-eec2-4fc2-b428-640e734a5256",
   "metadata": {
    "tags": []
   },
   "outputs": [
    {
     "name": "stdout",
     "output_type": "stream",
     "text": [
      "Requirement already satisfied: scikit-learn in /Users/furkanyilmaz/anaconda3/lib/python3.11/site-packages (1.3.0)\n",
      "Requirement already satisfied: numpy>=1.17.3 in /Users/furkanyilmaz/anaconda3/lib/python3.11/site-packages (from scikit-learn) (1.24.3)\n",
      "Requirement already satisfied: scipy>=1.5.0 in /Users/furkanyilmaz/anaconda3/lib/python3.11/site-packages (from scikit-learn) (1.10.1)\n",
      "Requirement already satisfied: joblib>=1.1.1 in /Users/furkanyilmaz/anaconda3/lib/python3.11/site-packages (from scikit-learn) (1.2.0)\n",
      "Requirement already satisfied: threadpoolctl>=2.0.0 in /Users/furkanyilmaz/anaconda3/lib/python3.11/site-packages (from scikit-learn) (2.2.0)\n",
      "Note: you may need to restart the kernel to use updated packages.\n"
     ]
    }
   ],
   "source": [
    "pip install scikit-learn"
   ]
  },
  {
   "cell_type": "code",
   "execution_count": 17,
   "id": "d1045481-14fb-47c0-8327-0aa874cc3d92",
   "metadata": {
    "tags": []
   },
   "outputs": [],
   "source": [
    "from sklearn.metrics import accuracy_score, precision_score, recall_score, f1_score, roc_auc_score, roc_curve, auc"
   ]
  },
  {
   "cell_type": "code",
   "execution_count": 18,
   "id": "14a19859-6b7f-486d-b5ac-3830999b813a",
   "metadata": {
    "tags": []
   },
   "outputs": [
    {
     "name": "stdout",
     "output_type": "stream",
     "text": [
      "Accuracy: 1.0\n",
      "Precision: 1.0\n",
      "Recall (Sensitivity): 1.0\n",
      "F1 Score: 1.0\n",
      "AUC (Area under the ROC Curve): 1.0\n"
     ]
    }
   ],
   "source": [
    "# Accuracy\n",
    "accuracy = accuracy_score(y_test, y_pred)\n",
    "print(f\"Accuracy: {accuracy}\")\n",
    "\n",
    "# Precision\n",
    "precision = precision_score(y_test, y_pred)\n",
    "print(f\"Precision: {precision}\")\n",
    "\n",
    "# Recall (Sensitivity)\n",
    "recall = recall_score(y_test, y_pred)\n",
    "print(f\"Recall (Sensitivity): {recall}\")\n",
    "\n",
    "# F1 Score\n",
    "f1 = f1_score(y_test, y_pred)\n",
    "print(f\"F1 Score: {f1}\")\n",
    "\n",
    "# ROC Curve ve AUC\n",
    "fpr, tpr, thresholds = roc_curve(y_test, model.predict_proba(X_test)[:, 1])\n",
    "roc_auc = auc(fpr, tpr)\n",
    "print(f\"AUC (Area under the ROC Curve): {roc_auc}\")"
   ]
  },
  {
   "cell_type": "code",
   "execution_count": 19,
   "id": "376a01a5-cfa4-4eeb-b547-7dab64fb3e4f",
   "metadata": {
    "tags": []
   },
   "outputs": [
    {
     "name": "stdout",
     "output_type": "stream",
     "text": [
      "Accuracy: 0.9888211382113821\n",
      "Precision: 0.9919517102615694\n",
      "Recall (Sensitivity): 0.986\n",
      "F1 Score: 0.9889669007021062\n",
      "AUC (Area under the ROC Curve): 0.9994090909090909\n"
     ]
    }
   ],
   "source": [
    "import pandas as pd\n",
    "from sklearn.model_selection import train_test_split\n",
    "from sklearn.svm import SVC\n",
    "from sklearn.metrics import accuracy_score, precision_score, recall_score, f1_score, roc_auc_score\n",
    "\n",
    "X_train, X_test, y_train, y_test = train_test_split(X, Y, test_size=0.2, random_state=42)\n",
    "\n",
    "model = SVC(random_state=42)\n",
    "\n",
    "model.fit(X_train, y_train)\n",
    "\n",
    "y_pred = model.predict(X_test)\n",
    "\n",
    "accuracy = accuracy_score(y_test, y_pred)\n",
    "precision = precision_score(y_test, y_pred)\n",
    "recall = recall_score(y_test, y_pred)\n",
    "f1 = f1_score(y_test, y_pred)\n",
    "roc_auc = roc_auc_score(y_test, model.decision_function(X_test))\n",
    "\n",
    "print(f\"Accuracy: {accuracy}\")\n",
    "print(f\"Precision: {precision}\")\n",
    "print(f\"Recall (Sensitivity): {recall}\")\n",
    "print(f\"F1 Score: {f1}\")\n",
    "print(f\"AUC (Area under the ROC Curve): {roc_auc}\")"
   ]
  },
  {
   "cell_type": "code",
   "execution_count": 20,
   "id": "23f8c96d-9236-422d-b9bc-d64b2d550717",
   "metadata": {
    "tags": []
   },
   "outputs": [
    {
     "name": "stdout",
     "output_type": "stream",
     "text": [
      "Accuracy: 0.9146341463414634\n",
      "Precision: 0.9176706827309237\n",
      "Recall (Sensitivity): 0.914\n",
      "F1 Score: 0.9158316633266533\n",
      "AUC (Area under the ROC Curve): 0.9684132231404958\n"
     ]
    }
   ],
   "source": [
    "import pandas as pd\n",
    "from sklearn.model_selection import train_test_split\n",
    "from sklearn.neighbors import KNeighborsClassifier\n",
    "from sklearn.metrics import accuracy_score, precision_score, recall_score, f1_score, roc_auc_score\n",
    "\n",
    "X = X.values\n",
    "Y = Y.values\n",
    "\n",
    "X_train, X_test, y_train, y_test = train_test_split(X, Y, test_size=0.2, random_state=42)\n",
    "\n",
    "model = KNeighborsClassifier(n_neighbors=5)  \n",
    "\n",
    "model.fit(X_train, y_train)\n",
    "\n",
    "y_pred = model.predict(X_test)\n",
    "\n",
    "accuracy = accuracy_score(y_test, y_pred)\n",
    "precision = precision_score(y_test, y_pred)\n",
    "recall = recall_score(y_test, y_pred)\n",
    "f1 = f1_score(y_test, y_pred)\n",
    "roc_auc = roc_auc_score(y_test, model.predict_proba(X_test)[:, 1])\n",
    "\n",
    "print(f\"Accuracy: {accuracy}\")\n",
    "print(f\"Precision: {precision}\")\n",
    "print(f\"Recall (Sensitivity): {recall}\")\n",
    "print(f\"F1 Score: {f1}\")\n",
    "print(f\"AUC (Area under the ROC Curve): {roc_auc}\")"
   ]
  },
  {
   "cell_type": "code",
   "execution_count": 21,
   "id": "4667febe-ccb7-4b74-8ed7-5c558b197c39",
   "metadata": {
    "tags": []
   },
   "outputs": [
    {
     "name": "stdout",
     "output_type": "stream",
     "text": [
      "Accuracy: 1.0\n",
      "Precision: 1.0\n",
      "Recall (Sensitivity): 1.0\n",
      "F1 Score: 1.0\n",
      "AUC (Area under the ROC Curve): 1.0\n"
     ]
    }
   ],
   "source": [
    "import pandas as pd\n",
    "from sklearn.model_selection import train_test_split\n",
    "from sklearn.tree import DecisionTreeClassifier\n",
    "from sklearn.metrics import accuracy_score, precision_score, recall_score, f1_score, roc_auc_score\n",
    "\n",
    "X_train, X_test, y_train, y_test = train_test_split(X, Y, test_size=0.2, random_state=42)\n",
    "\n",
    "model = DecisionTreeClassifier(random_state=42)\n",
    "\n",
    "model.fit(X_train, y_train)\n",
    "y_pred = model.predict(X_test)\n",
    "\n",
    "accuracy = accuracy_score(y_test, y_pred)\n",
    "precision = precision_score(y_test, y_pred)\n",
    "recall = recall_score(y_test, y_pred)\n",
    "f1 = f1_score(y_test, y_pred)\n",
    "roc_auc = roc_auc_score(y_test, model.predict_proba(X_test)[:, 1])\n",
    "\n",
    "print(f\"Accuracy: {accuracy}\")\n",
    "print(f\"Precision: {precision}\")\n",
    "print(f\"Recall (Sensitivity): {recall}\")\n",
    "print(f\"F1 Score: {f1}\")\n",
    "print(f\"AUC (Area under the ROC Curve): {roc_auc}\")"
   ]
  }
 ],
 "metadata": {
  "kernelspec": {
   "display_name": "Python 3 (ipykernel)",
   "language": "python",
   "name": "python3"
  },
  "language_info": {
   "codemirror_mode": {
    "name": "ipython",
    "version": 3
   },
   "file_extension": ".py",
   "mimetype": "text/x-python",
   "name": "python",
   "nbconvert_exporter": "python",
   "pygments_lexer": "ipython3",
   "version": "3.11.4"
  }
 },
 "nbformat": 4,
 "nbformat_minor": 5
}
